{
 "cells": [
  {
   "cell_type": "code",
   "execution_count": 1,
   "metadata": {},
   "outputs": [],
   "source": [
    "from selenium import webdriver\n",
    "import re\n",
    "import time\n",
    "import requests\n",
    "from datetime import datetime  \n",
    "from datetime import timedelta \n",
    "\n",
    "options = webdriver.ChromeOptions()\n",
    "options.add_argument('--ignore-certificate-errors')\n",
    "options.add_argument('--incognito')\n",
    "options.add_argument('--headless')\n",
    "# your location of chromedriver.exe\n",
    "# the version of chromedriver should be same as of browser\n",
    "driver = webdriver.Chrome(r\"C:\\Users\\Lenovo\\Downloads\\A\\chromedriver.exe\", options=options)\n",
    "\n",
    "url1 = 'https://www.dream11.com/leagues'\n",
    "driver.get(url1)\n",
    "# Take a second to load javascript\n",
    "time.sleep(2)\n",
    "content = driver.page_source"
   ]
  },
  {
   "cell_type": "markdown",
   "metadata": {},
   "source": [
    "#### Name of tournament "
   ]
  },
  {
   "cell_type": "code",
   "execution_count": 2,
   "metadata": {},
   "outputs": [],
   "source": [
    "tournament_pattern = r'(matchCardHeaderTitle_c5373 matchCardHeaderTitleDesktop_a2024\">)(\\w*-*\\'*\\s*\\w*-*\\'*\\s*\\w*-*\\'*\\s*\\w*-*\\'*\\s*\\w*-*\\'*\\s*\\w*-*\\w*\\'*\\s*\\w*)'\n",
    "tournament_data = re.findall(tournament_pattern,content)"
   ]
  },
  {
   "cell_type": "markdown",
   "metadata": {},
   "source": [
    "#### Match Name"
   ]
  },
  {
   "cell_type": "code",
   "execution_count": 3,
   "metadata": {},
   "outputs": [],
   "source": [
    "lteam_pattern = r'(<div class=\"squadShortName_a116b squadShortNameLeft_db179\">)([A-Z]*-*[A-Z])'\n",
    "lteam_data = re.findall(lteam_pattern,content)"
   ]
  },
  {
   "cell_type": "code",
   "execution_count": 4,
   "metadata": {},
   "outputs": [],
   "source": [
    "rteam_pattern = r'(<div class=\"squadShortName_a116b squadShortNameRight_42ab0\">)([A-Z]*-*[A-Z*])'\n",
    "rteam_data = re.findall(rteam_pattern,content)"
   ]
  },
  {
   "cell_type": "code",
   "execution_count": 5,
   "metadata": {},
   "outputs": [],
   "source": [
    "match_name = list()\n",
    "for i in range(len(tournament_data)):\n",
    "    match_name.append(lteam_data[i][1] + ' vs ' + rteam_data[i][1])"
   ]
  },
  {
   "cell_type": "markdown",
   "metadata": {},
   "source": [
    "#### Match Time Remaining"
   ]
  },
  {
   "cell_type": "code",
   "execution_count": 6,
   "metadata": {},
   "outputs": [],
   "source": [
    "time_pattern = r'(matchCardTimerDesktop_48a55\"><div>)(\\w*\\s*\\w*\\s*\\w*)'\n",
    "time_data = re.findall(time_pattern,content)"
   ]
  },
  {
   "cell_type": "markdown",
   "metadata": {},
   "source": [
    "#### Match Start Time"
   ]
  },
  {
   "cell_type": "code",
   "execution_count": 7,
   "metadata": {},
   "outputs": [],
   "source": [
    "days = 0\n",
    "hours = 0\n",
    "minutes = 0\n",
    "dates = list()\n",
    "for i in range(len(tournament_data)):\n",
    "    if (time_data[i][1].rfind('d')) != -1:\n",
    "        days = time_data[i][1][0]\n",
    "        start_date = datetime.now() + timedelta(days=int(days))\n",
    "        dates.append(start_date)\n",
    "\n",
    "    elif (time_data[i][1].rfind('h')) != -1:\n",
    "        hours = int(time_data[i][1].split('h')[0])\n",
    "        start_date = datetime.now() + timedelta(hours=int(hours))\n",
    "\n",
    "        if (time_data[i][1].rfind('m')) != -1:\n",
    "            minutes = int(time_data[i][1].split('m')[0].split(' ')[1])\n",
    "            start_date = start_date + timedelta(minutes=int(minutes))\n",
    "        dates.append(start_date)\n",
    "    \n",
    "    elif (time_data[i][1].rfind('m')) != -1:\n",
    "        minutes = int(time_data[i][1].split('m')[0])\n",
    "        start_date = datetime.now() + timedelta(minutes=int(minutes))\n",
    "        dates.append(start_date)"
   ]
  },
  {
   "cell_type": "markdown",
   "metadata": {},
   "source": [
    "#### Match Status"
   ]
  },
  {
   "cell_type": "code",
   "execution_count": 8,
   "metadata": {},
   "outputs": [],
   "source": [
    "match_status = list()\n",
    "for i in range(len(tournament_data)):\n",
    "    if datetime.now() > dates[i]:\n",
    "        match_status.append(\"Already Started\")\n",
    "    else:\n",
    "        match_status.append(\"Not Started\")"
   ]
  },
  {
   "cell_type": "markdown",
   "metadata": {},
   "source": [
    "#### Building Final Data"
   ]
  },
  {
   "cell_type": "code",
   "execution_count": 9,
   "metadata": {},
   "outputs": [],
   "source": [
    "data = list()\n",
    "data_dict = dict()\n",
    "for i in range(len(tournament_data)):\n",
    "    data.append({'tournament_name':tournament_data[i][1], 'match_name':match_name[i], 'match_status':match_status[i], 'start_time':str(dates[i])})\n",
    "\n",
    "data_dict = {'tournament_data':data}"
   ]
  },
  {
   "cell_type": "markdown",
   "metadata": {},
   "source": [
    "#### Parsing to json"
   ]
  },
  {
   "cell_type": "code",
   "execution_count": 10,
   "metadata": {},
   "outputs": [],
   "source": [
    "import json\n",
    "import csv\n",
    "dream11_json_data = json.dumps(data_dict)"
   ]
  },
  {
   "cell_type": "code",
   "execution_count": 11,
   "metadata": {},
   "outputs": [],
   "source": [
    "data = json.loads(dream11_json_data)\n",
    "dream11_data = data['tournament_data']"
   ]
  },
  {
   "cell_type": "markdown",
   "metadata": {},
   "source": [
    "#### Saving it as CSV file"
   ]
  },
  {
   "cell_type": "code",
   "execution_count": 31,
   "metadata": {},
   "outputs": [],
   "source": [
    "data_file = open('data_file1.csv', 'w')\n",
    "\n",
    "csv_writer = csv.writer(data_file)\n",
    "# writing header to a file\n",
    "header = data.keys() \n",
    "csv_writer.writerow(header)\n",
    "for data in dream11_data:   \n",
    "    # Writing data of CSV file \n",
    "    csv_writer.writerow(data.values()) \n",
    "  \n",
    "data_file.close() "
   ]
  },
  {
   "cell_type": "markdown",
   "metadata": {},
   "source": [
    "#### Displaying csv file"
   ]
  },
  {
   "cell_type": "code",
   "execution_count": 32,
   "metadata": {},
   "outputs": [
    {
     "name": "stdout",
     "output_type": "stream",
     "text": [
      "tournament_name,match_name,match_status,start_time\n",
      "\n",
      "FanCode ECS T10 - Barcelona,HIS vs PIC,Not Started,2021-03-09 20:59:52.956255\n",
      "\n",
      "Australia One Day Cup,VCT vs TAS,Not Started,2021-03-10 04:25:52.956255\n",
      "\n",
      "Kodak Kerala T20,LIO vs EAG,Not Started,2021-03-10 09:25:52.956255\n",
      "\n",
      "Afghanistan vs Zimbabwe Test,AFG vs ZIM,Not Started,2021-03-10 10:25:52.956255\n",
      "\n",
      "FanCode ECS T10 - Barcelona,BAG vs KHA,Not Started,2021-03-10 12:25:52.956255\n",
      "\n",
      "Kodak Kerala T20,ROY vs TUS,Not Started,2021-03-10 13:25:52.956255\n",
      "\n",
      "FanCode ECS T10 - Barcelona,SKY vs KHA,Not Started,2021-03-10 14:25:52.956255\n",
      "\n",
      "FanCode ECS T10 - Barcelona,BAK vs BAG,Not Started,2021-03-10 16:25:52.956255\n",
      "\n",
      "West Indies vs Sri Lanka ODI,WI vs SL,Not Started,2021-03-10 18:25:52.956255\n",
      "\n",
      "Road Safety T20 World Series,BD-L vs SL-L,Not Started,2021-03-10 18:25:52.956255\n",
      "\n",
      "FanCode ECS T10 - Barcelona,BAG vs RAS,Not Started,2021-03-10 18:25:52.956255\n",
      "\n",
      "FanCode ECS T10 - Barcelona,BAK vs MIN,Not Started,2021-03-10 20:25:52.956255\n",
      "\n",
      "Plunket Shield,CTB vs OV,Not Started,2021-03-11 02:25:52.956255\n",
      "\n",
      "Australia One Day Cup,QUN vs WAU,Not Started,2021-03-11 05:25:52.956255\n",
      "\n",
      "Vijay Hazare Trophy ODD,GUJ vs UP,Not Started,2021-03-11 08:25:52.956255\n",
      "\n",
      "Vijay Hazare Trophy ODD,KAR vs MUM,Not Started,2021-03-11 08:25:52.956255\n",
      "\n",
      "Womens Senior One Day Trophy,PON-W vs BIH-W,Not Started,2021-03-11 08:25:52.956255\n",
      "\n",
      "Kodak Kerala T20,EAG vs PAN,Not Started,2021-03-11 09:25:52.956255\n",
      "\n",
      "FanCode ECS T10 - Barcelona,TRS vs BLP,Not Started,2021-03-11 12:25:52.956255\n",
      "\n",
      "Kodak Kerala T20,TUS vs TIG,Not Started,2021-03-11 13:25:52.956255\n",
      "\n",
      "FanCode ECS T10 - Barcelona,HAW vs BLP,Not Started,2021-03-11 14:25:52.956255\n",
      "\n",
      "FanCode ECS T10 - Barcelona,BSH vs TRS,Not Started,2021-03-11 16:25:52.956255\n",
      "\n",
      "FanCode ECS T10 - Barcelona,TRS vs PUW,Not Started,2021-03-11 18:25:52.956255\n",
      "\n",
      "Road Safety T20 World Series,EN-L vs SA-L,Not Started,2021-03-11 18:25:52.956255\n",
      "\n",
      "FanCode ECS T10 - Barcelona,BSH vs FAL,Not Started,2021-03-11 20:25:52.956255\n",
      "\n",
      "Australia One Day Cup,TAS vs SAU,Not Started,2021-03-11 20:25:52.956255\n",
      "\n",
      "Bangladesh A vs Ireland Wolves ODD,BN-A vs IR-A,Not Started,2021-03-11 20:25:52.956255\n",
      "\n",
      "India Women vs South Africa Women ODI,IN-W vs SA-W,Not Started,2021-03-11 20:25:52.956255\n",
      "\n",
      "Womens Senior One Day Trophy,HYD-W vs GUJ-W,Not Started,2021-03-11 20:25:52.956255\n",
      "\n",
      "Kodak Kerala T20,TIG vs PAN,Not Started,2021-03-11 20:25:52.956255\n",
      "\n",
      "Australian Women's ODD,WF-W vs AM-W,Not Started,2021-03-11 20:25:52.956255\n",
      "\n",
      "FanCode ECS T10 - Barcelona,TBC vs TBC,Not Started,2021-03-11 20:25:52.956255\n",
      "\n",
      "Kodak Kerala T20,EAG vs ROY,Not Started,2021-03-11 20:25:52.956255\n",
      "\n",
      "FanCode ECS T10 - Barcelona,TBC vs TBC,Not Started,2021-03-11 20:25:52.956255\n",
      "\n",
      "FanCode ECS T10 - Barcelona,TBC vs TBC,Not Started,2021-03-11 20:25:52.956255\n",
      "\n",
      "Road Safety T20 World Series,BD-L vs WI-L,Not Started,2021-03-11 20:25:52.956255\n",
      "\n",
      "West Indies vs Sri Lanka ODI,WI vs SL,Not Started,2021-03-11 20:25:52.956255\n",
      "\n",
      "India vs England T20I,IND vs ENG,Not Started,2021-03-11 20:25:52.956255\n",
      "\n",
      "FanCode ECS T10 - Barcelona,TBC vs TBC,Not Started,2021-03-11 20:25:52.956255\n",
      "\n",
      "New Zealand Women's ODD,WB-W vs OS-W,Not Started,2021-03-12 20:25:52.956255\n",
      "\n",
      "Womens Senior One Day Trophy,KER-W vs BRD-W,Not Started,2021-03-12 20:25:52.956255\n",
      "\n",
      "Kodak Kerala T20,LIO vs TUS,Not Started,2021-03-12 20:25:52.956255\n",
      "\n",
      "Kodak Kerala T20,TIG vs ROY,Not Started,2021-03-12 20:25:52.956255\n",
      "\n",
      "Road Safety T20 World Series,IN-L vs SA-L,Not Started,2021-03-12 20:25:52.956255\n",
      "\n",
      "New Zealand Women's ODD,AH-W vs CM-W,Not Started,2021-03-13 20:25:52.956255\n",
      "\n",
      "Australia One Day Cup,NSW vs WAU,Not Started,2021-03-13 20:25:52.956255\n",
      "\n",
      "Australian Women's ODD,WF-W vs SAU-W,Not Started,2021-03-13 20:25:52.956255\n",
      "\n",
      "Bangladesh A vs Ireland Wolves ODD,BN-A vs IR-A,Not Started,2021-03-13 20:25:52.956255\n",
      "\n",
      "Vijay Hazare Trophy ODD,TBC vs TBC,Not Started,2021-03-13 20:25:52.956255\n",
      "\n",
      "India Women vs South Africa Women ODI,IN-W vs SA-W,Not Started,2021-03-13 20:25:52.957255\n",
      "\n",
      "Womens Senior One Day Trophy,SAU-W vs BEN-W,Not Started,2021-03-13 20:25:52.957255\n",
      "\n",
      "Road Safety T20 World Series,SL-L vs EN-L,Not Started,2021-03-13 20:25:52.957255\n",
      "\n",
      "India vs England T20I,IND vs ENG,Not Started,2021-03-13 20:25:52.957255\n",
      "\n",
      "West Indies vs Sri Lanka ODI,WI vs SL,Not Started,2021-03-14 20:25:52.957255\n",
      "\n",
      "Sheffield Shield,VCT vs QUN,Not Started,2021-03-14 20:25:52.957255\n",
      "\n",
      "Womens Senior One Day Trophy,KER-W vs MUM-W,Not Started,2021-03-14 20:25:52.957255\n",
      "\n",
      "Kodak Kerala T20,LIO vs PAN,Not Started,2021-03-14 20:25:52.957255\n",
      "\n",
      "Kodak Kerala T20,EAG vs TUS,Not Started,2021-03-14 20:25:52.957255\n",
      "\n",
      "Road Safety T20 World Series,SA-L vs BD-L,Not Started,2021-03-14 20:25:52.957255\n",
      "\n"
     ]
    }
   ],
   "source": [
    "with open('data_file.csv') as csvfile:\n",
    "    spamreader = csv.reader(csvfile, delimiter=' ')\n",
    "    for row in spamreader:\n",
    "        print(' '.join(row))"
   ]
  }
 ],
 "metadata": {
  "kernelspec": {
   "display_name": "Python 3",
   "language": "python",
   "name": "python3"
  },
  "language_info": {
   "codemirror_mode": {
    "name": "ipython",
    "version": 3
   },
   "file_extension": ".py",
   "mimetype": "text/x-python",
   "name": "python",
   "nbconvert_exporter": "python",
   "pygments_lexer": "ipython3",
   "version": "3.7.3"
  }
 },
 "nbformat": 4,
 "nbformat_minor": 2
}
