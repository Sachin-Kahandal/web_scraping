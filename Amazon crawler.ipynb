{
 "cells": [
  {
   "cell_type": "code",
   "execution_count": 1,
   "metadata": {},
   "outputs": [],
   "source": [
    "import requests\n",
    "import re\n",
    "\n",
    "headers = {'User-Agent': 'Mozilla/5.0 (Windows NT 10.0; Win64; x64) AppleWebKit/537.36 (KHTML, like Gecko) Chrome/83.0.4103.61 Safari/537.36'}\n",
    "url = 'https://www.amazon.in/dp/B08L5V9T31'\n",
    "url1 = 'https://www.amazon.in/dp/B07XVKG5XV'\n",
    "# Make the request to a url\n",
    "response = requests.get(url1, headers=headers)\n",
    "content = response.text"
   ]
  },
  {
   "cell_type": "markdown",
   "metadata": {},
   "source": [
    "#### Title"
   ]
  },
  {
   "cell_type": "code",
   "execution_count": 2,
   "metadata": {},
   "outputs": [
    {
     "name": "stdout",
     "output_type": "stream",
     "text": [
      "New Apple iPhone 11 (128GB) - (Product) RED\n"
     ]
    }
   ],
   "source": [
    "title_pattern = r'(<span\\s+id=\"productTitle\"\\s+class=\"a-size-large\\s+product-title-word-break\">\\s+)(.*)\\s+(<\\/span>)'\n",
    "title = re.findall(title_pattern,content)\n",
    "product_title = title[0][1]\n",
    "print(product_title)"
   ]
  },
  {
   "cell_type": "markdown",
   "metadata": {},
   "source": [
    "#### Brand"
   ]
  },
  {
   "cell_type": "code",
   "execution_count": 3,
   "metadata": {},
   "outputs": [
    {
     "name": "stdout",
     "output_type": "stream",
     "text": [
      "Apple\n"
     ]
    }
   ],
   "source": [
    "brand_pattern = r'(<td)\\s+(class=\"a-span9\">)\\s+(<span)\\s+(class=\"a-size-base\">)(.*)(<\\/span>)\\s+(<\\/td>)(\\s)(<\\/tr>)'\n",
    "brand = re.findall(brand_pattern,content)\n",
    "product_brand = brand[1][4]\n",
    "print(product_brand)"
   ]
  },
  {
   "cell_type": "markdown",
   "metadata": {},
   "source": [
    "#### Deal Price"
   ]
  },
  {
   "cell_type": "code",
   "execution_count": 4,
   "metadata": {},
   "outputs": [
    {
     "name": "stdout",
     "output_type": "stream",
     "text": [
      "55999.0\n"
     ]
    }
   ],
   "source": [
    "deal_price_pattern = r'(<span)\\s+(id=\"priceblock_ourprice\")\\s+(class=\"a-size-medium)\\s+(a-color-price)\\s+(priceBlockBuyingPriceString\">)(.*)(<\\/span>)'\n",
    "deal_price_data = re.findall(deal_price_pattern,content)\n",
    "deal_price = deal_price_data[0][5]\n",
    "data = deal_price[2:-3].split(',')\n",
    "# when price is in lacs\n",
    "if len(data) == 3:\n",
    "    deal_price = float(data[0]+data[1]+data[2])\n",
    "    print(deal_price)\n",
    "# when price is in thousands\n",
    "elif len(data) == 2:\n",
    "    deal_price = float(data[0]+data[1])\n",
    "    print(deal_price)"
   ]
  },
  {
   "cell_type": "markdown",
   "metadata": {},
   "source": [
    "#### MRP Price"
   ]
  },
  {
   "cell_type": "code",
   "execution_count": 5,
   "metadata": {},
   "outputs": [
    {
     "name": "stdout",
     "output_type": "stream",
     "text": [
      "59900.0\n"
     ]
    }
   ],
   "source": [
    "mrp_price_pattern = r'(<span\\s+class=\"priceBlockStrikePriceString\\s+a-text-strike\">)(.*)(<\\/span>)'\n",
    "mrp_price_data = re.findall(mrp_price_pattern,content)\n",
    "if len(mrp_price_data) != 0:\n",
    "    mrp_price = mrp_price_data[0][1]\n",
    "    data = mrp_price[2:-3].split(',')\n",
    "    # when price is in lacs\n",
    "    if len(data) == 3:\n",
    "        mrp_price = float(data[0]+data[1]+data[2])\n",
    "        print(mrp_price)\n",
    "    # when price is in thousands\n",
    "    elif len(data) == 2:\n",
    "        mrp_price = float(data[0]+data[1])\n",
    "        print(mrp_price)\n",
    "else: \n",
    "    print(deal_price)"
   ]
  },
  {
   "cell_type": "markdown",
   "metadata": {},
   "source": [
    "#### URL"
   ]
  },
  {
   "cell_type": "code",
   "execution_count": 6,
   "metadata": {},
   "outputs": [
    {
     "name": "stdout",
     "output_type": "stream",
     "text": [
      "\"https://www.amazon.in/New-Apple-iPhone-11-128GB/dp/B08L8BV998\"\n"
     ]
    }
   ],
   "source": [
    "url_pattern = r'(<link)\\s+(rel=\"canonical\")\\s+(href=)(\"https:\\/\\/www\\.amazon\\.in\\/.*)\\s+(/>)'\n",
    "url_data = re.findall(url_pattern,content)\n",
    "url = url_data\n",
    "print(url[0][3])"
   ]
  },
  {
   "cell_type": "markdown",
   "metadata": {},
   "source": [
    "#### Thumbnail_url (not working)"
   ]
  },
  {
   "cell_type": "code",
   "execution_count": 7,
   "metadata": {},
   "outputs": [
    {
     "data": {
      "text/plain": [
       "'https://images-na.ssl-images-amazon.com/images/I/71hh7cpWadL._SL1500_.jpg'"
      ]
     },
     "execution_count": 7,
     "metadata": {},
     "output_type": "execute_result"
    }
   ],
   "source": [
    "thumbnail_url_pattern = r'https:\\/\\/images-na\\.ssl-images-amazon\\.com\\/images\\/I\\/71[A-Za-z0-9]*._SL1500_.jpg'\n",
    "url_data = re.findall(thumbnail_url_pattern,content)\n",
    "thumbnail_url = url_data[0]\n",
    "thumbnail_url"
   ]
  },
  {
   "cell_type": "markdown",
   "metadata": {},
   "source": [
    "#### No of reviews"
   ]
  },
  {
   "cell_type": "code",
   "execution_count": 8,
   "metadata": {},
   "outputs": [
    {
     "name": "stdout",
     "output_type": "stream",
     "text": [
      "17\n"
     ]
    }
   ],
   "source": [
    "reviews_count_pattern = r'(<span)\\s(id=\"acrCustomerReviewText\")\\s(class=\"a-size-base\">)(\\d+)'\n",
    "review_data = re.findall(reviews_count_pattern,content)\n",
    "total_reviews = int(review_data[0][3])\n",
    "print(total_reviews)"
   ]
  },
  {
   "cell_type": "markdown",
   "metadata": {},
   "source": [
    "#### Rating"
   ]
  },
  {
   "cell_type": "code",
   "execution_count": 9,
   "metadata": {},
   "outputs": [
    {
     "name": "stdout",
     "output_type": "stream",
     "text": [
      "4.5\n"
     ]
    }
   ],
   "source": [
    "rating_pattern = r'(<span)\\s(data-hook=\"rating-out-of-text\")\\s(class=\"a-size-medium a-color-base\">)(\\d+\\.\\d)'\n",
    "rating_data = re.findall(rating_pattern,content)\n",
    "rating = float(rating_data[0][3])\n",
    "print(rating)"
   ]
  },
  {
   "cell_type": "markdown",
   "metadata": {},
   "source": [
    "#### Product Details"
   ]
  },
  {
   "cell_type": "code",
   "execution_count": 10,
   "metadata": {},
   "outputs": [
    {
     "name": "stdout",
     "output_type": "stream",
     "text": [
      "['6.1-inch (15.5 cm diagonal) Liquid Retina HD LCD display', 'Water and dust resistant (2 meters for up to 30 minutes, IP68)', 'Dual-camera system with 12MP Ultra Wide and Wide cameras; Night mode, Portrait mode, and 4K video up to 60fps', '12MP TrueDepth front camera with Portrait mode, 4K video, and Slo-Mo', 'Face ID for secure authentication', 'A13 Bionic chip with third-generation Neural Engine', 'Fast-charge capable']\n"
     ]
    }
   ],
   "source": [
    "product_details = list()\n",
    "details_pattern = r'(<li><span\\sclass=\"a-list-item\">)\\s(.*)'\n",
    "details_data = list(re.findall(details_pattern,content))\n",
    "for i in range(len(details_data)):\n",
    "    product_details.append(details_data[i][1])\n",
    "print(product_details)"
   ]
  }
 ],
 "metadata": {
  "kernelspec": {
   "display_name": "Python 3",
   "language": "python",
   "name": "python3"
  },
  "language_info": {
   "codemirror_mode": {
    "name": "ipython",
    "version": 3
   },
   "file_extension": ".py",
   "mimetype": "text/x-python",
   "name": "python",
   "nbconvert_exporter": "python",
   "pygments_lexer": "ipython3",
   "version": "3.7.3"
  }
 },
 "nbformat": 4,
 "nbformat_minor": 2
}
